{
 "cells": [
  {
   "cell_type": "code",
   "execution_count": 1,
   "id": "1fe74303-23fc-4b4b-8cdd-2159e242c1d7",
   "metadata": {},
   "outputs": [
    {
     "name": "stdout",
     "output_type": "stream",
     "text": [
      "Using database version X4-2024-12-31 located in: /home/kyle/db/exfor/unpack_exfor-2024/X4-2024-12-31\n"
     ]
    }
   ],
   "source": [
    "import jitr\n",
    "\n",
    "import rxmc"
   ]
  },
  {
   "cell_type": "code",
   "execution_count": 2,
   "id": "c01be34b-0ef1-416f-a8f5-1475ecad871a",
   "metadata": {},
   "outputs": [
    {
     "data": {
      "text/plain": [
       "'2.4.2.dev16+g49e7534'"
      ]
     },
     "execution_count": 2,
     "metadata": {},
     "output_type": "execute_result"
    }
   ],
   "source": [
    "jitr.__version__"
   ]
  },
  {
   "cell_type": "code",
   "execution_count": 3,
   "id": "9fbc70e4-6ac7-4a99-8a84-3197e65a8666",
   "metadata": {
    "ExecuteTime": {
     "end_time": "2025-01-17T15:26:07.531484700Z",
     "start_time": "2025-01-17T15:26:07.394370400Z"
    }
   },
   "outputs": [],
   "source": [
    "import lzma\n",
    "\n",
    "import corner\n",
    "import dill as pickle\n",
    "import matplotlib.pyplot as plt\n",
    "import numpy as np\n",
    "from scipy import stats\n",
    "from tqdm import tqdm"
   ]
  },
  {
   "cell_type": "markdown",
   "id": "0549f452-8049-4fba-9299-62fc9be3d6de",
   "metadata": {},
   "source": [
    "## Define reaction"
   ]
  },
  {
   "cell_type": "code",
   "execution_count": 4,
   "id": "8f3b7bb0",
   "metadata": {
    "ExecuteTime": {
     "end_time": "2025-01-17T15:26:07.709748500Z",
     "start_time": "2025-01-17T15:26:07.406855100Z"
    },
    "scrolled": true
   },
   "outputs": [],
   "source": [
    "Ca40 = (40, 20)\n",
    "n = (1, 0)\n",
    "E_lab = 14.1"
   ]
  },
  {
   "cell_type": "code",
   "execution_count": 5,
   "id": "713ea323-2573-4c72-92c9-b78ab30f549d",
   "metadata": {},
   "outputs": [],
   "source": [
    "rxn = jitr.reactions.ElasticReaction(\n",
    "    target=Ca40,\n",
    "    projectile=n,\n",
    ")\n",
    "kinematics = rxn.kinematics(E_lab)"
   ]
  },
  {
   "cell_type": "markdown",
   "id": "22833ca4-9a18-4034-8948-8e4717ffab91",
   "metadata": {},
   "source": [
    "## Build a local optical potential"
   ]
  },
  {
   "cell_type": "code",
   "execution_count": 6,
   "id": "1a22b8f7",
   "metadata": {
    "ExecuteTime": {
     "end_time": "2025-01-17T15:26:07.718742300Z",
     "start_time": "2025-01-17T15:26:07.710748600Z"
    },
    "scrolled": true
   },
   "outputs": [],
   "source": [
    "from jitr.optical_potentials.potential_forms import (\n",
    "    thomas_safe,\n",
    "    woods_saxon_prime_safe,\n",
    "    woods_saxon_safe,\n",
    ")\n",
    "\n",
    "\n",
    "def central_potential(r, Vv, Wv, Rv, av, Wd, Rd, ad):\n",
    "    return -(1j * Wv + Vv) * woods_saxon_safe(r, Rv, av) - (\n",
    "        4j * ad * Wd\n",
    "    ) * woods_saxon_prime_safe(r, Rd, ad)\n",
    "\n",
    "\n",
    "# spin orbit interaction constant\n",
    "mso = 1.0 / jitr.utils.constants.WAVENUMBER_PION\n",
    "\n",
    "\n",
    "def spin_orbit_potential(r, Vso, Wso, Rso, aso):\n",
    "    return (Vso + 1j * Wso) * mso**2 * thomas_safe(r, Rso, aso)"
   ]
  },
  {
   "cell_type": "markdown",
   "id": "a4acbd9d-c9bc-4412-8455-4434ec824cf5",
   "metadata": {},
   "source": [
    "### Initial parameter guess for $^{40} \\rm{Ca} (n,n)$"
   ]
  },
  {
   "cell_type": "code",
   "execution_count": 7,
   "id": "aecb0c5f",
   "metadata": {
    "ExecuteTime": {
     "end_time": "2025-01-17T15:26:07.718742300Z",
     "start_time": "2025-01-17T15:26:07.714642600Z"
    }
   },
   "outputs": [
    {
     "data": {
      "text/plain": [
       "11"
      ]
     },
     "execution_count": 7,
     "metadata": {},
     "output_type": "execute_result"
    }
   ],
   "source": [
    "# This is the value of the parameters coming from the Koning-Delaroche parametrization.\n",
    "# Taken from https://www-nds.iaea.org/RIPL-3/\n",
    "VvKD = 46.7238\n",
    "WvKD = 1.72334\n",
    "WdKD = -7.2357\n",
    "VsoKD = 6.1\n",
    "WsoKD = -3.1\n",
    "\n",
    "RvKD = 4.0538\n",
    "RdKD = 4.4055\n",
    "RsoKD = 1.01 * 40 ** (1.0 / 3.0)\n",
    "\n",
    "avKD = 0.6718\n",
    "adKD = 0.5379\n",
    "asoKD = 0.60\n",
    "\n",
    "alpha_central = np.array([VvKD, WvKD, RvKD, avKD, WdKD, RdKD, adKD])\n",
    "alpha_so = np.array([VsoKD, WsoKD, RsoKD, asoKD])\n",
    "\n",
    "len(alpha_central) + len(alpha_so)"
   ]
  },
  {
   "cell_type": "markdown",
   "id": "18af1269",
   "metadata": {},
   "source": [
    "## Experimental data for neutron scattering on $^{40}$ Ca\n",
    "\n",
    "Let's consider the practical example of fitting an optical potential to a differential elastic scattering cross section measurement. In particular, we will use [this measurement](http://dx.doi.org/10.1016/0029-5582(64)90087-2) from 1964 by McDonald and Robson, available [here on Exfor](https://www-nds.iaea.org/exfor/servlet/X4sGetSubent?reqx=207&subID=11611003&plus=1)."
   ]
  },
  {
   "cell_type": "code",
   "execution_count": 8,
   "id": "00789c7f-5cb9-4866-8104-6ad1d48be4b9",
   "metadata": {},
   "outputs": [],
   "source": [
    "from exfor_tools import ExforEntry"
   ]
  },
  {
   "cell_type": "code",
   "execution_count": 9,
   "id": "05d5d7fd-16f3-4fd8-bc92-e5ef9d7fe61f",
   "metadata": {},
   "outputs": [
    {
     "name": "stdout",
     "output_type": "stream",
     "text": [
      "Found subentry 11611003 with the following columns:\n",
      "['EN', 'ANG-RSL', 'COS-CM', 'DATA-CM', 'DATA-ERR']\n"
     ]
    }
   ],
   "source": [
    "entry = ExforEntry(\n",
    "    reaction=rxn,\n",
    "    entry=\"11611\",\n",
    "    quantity=\"dXS/dA\",\n",
    "    vocal=True,\n",
    "    filter_kwargs={\"allow_cos\": True},\n",
    ")"
   ]
  },
  {
   "cell_type": "code",
   "execution_count": 10,
   "id": "990f730c-e580-4597-bf64-eace7f91b0be",
   "metadata": {},
   "outputs": [
    {
     "data": {
      "text/plain": [
       "Authors:   W.J.Mcdonald, J.M.Robson\n",
       "Title:     The Scattering Of 14.1 Mev Neutrons By Ca40.\n",
       "Year:      1964\n",
       "Institute: Univ. of Ottawa, Ottawa, Ontario\n",
       "Reference: Nuclear Physics 59, 321 (1964); Private communication: Robson  (1967)\n",
       "Subent:    11611001"
      ]
     },
     "execution_count": 10,
     "metadata": {},
     "output_type": "execute_result"
    }
   ],
   "source": [
    "entry.meta"
   ]
  },
  {
   "cell_type": "code",
   "execution_count": 11,
   "id": "c94bbfec-df56-46a9-9710-ecb975e932c8",
   "metadata": {},
   "outputs": [],
   "source": [
    "m = entry.measurements[0]\n",
    "m.y_units = \"b/Sr\""
   ]
  },
  {
   "cell_type": "code",
   "execution_count": 12,
   "id": "15fa4119",
   "metadata": {
    "ExecuteTime": {
     "end_time": "2025-01-17T15:26:07.930071200Z",
     "start_time": "2025-01-17T15:26:07.725310200Z"
    }
   },
   "outputs": [
    {
     "data": {
      "text/plain": [
       "Text(0.5, 1.0, '$^{40} \\\\rm{Ca}(n,el)$\\t EXFOR SUBENT: 11611003')"
      ]
     },
     "execution_count": 12,
     "metadata": {},
     "output_type": "execute_result"
    },
    {
     "data": {
      "image/png": "[encoded data removed]",
      "text/plain": [
       "<Figure size 640x480 with 1 Axes>"
      ]
     },
     "metadata": {},
     "output_type": "display_data"
    }
   ],
   "source": [
    "plt.errorbar(m.x, m.y, m.statistical_err, linestyle=\"none\", marker=\"s\")\n",
    "plt.yscale(\"log\")\n",
    "plt.xlim([0, 180])\n",
    "plt.xlabel(r\"$\\theta$ \" + f\"[{m.x_units}]\")\n",
    "plt.ylabel(r\"$d \\sigma / d \\Omega$ \" + f\"[{m.y_units}]\")\n",
    "plt.title(f\"${rxn.reaction_latex}$\\t EXFOR SUBENT: {m.subentry}\")"
   ]
  },
  {
   "cell_type": "markdown",
   "id": "181a208f-cf8f-4fdf-b1bd-d870a2866e6a",
   "metadata": {},
   "source": [
    "# Now let's do a calibration"
   ]
  },
  {
   "cell_type": "markdown",
   "id": "36350d5a-13fb-4bcb-bacb-6f31f7177b99",
   "metadata": {},
   "source": [
    "## Specify prior"
   ]
  },
  {
   "cell_type": "code",
   "execution_count": 13,
   "id": "81fd3edc-6888-47d4-8563-d7a2fd1c2611",
   "metadata": {},
   "outputs": [],
   "source": [
    "alpha_0 = np.hstack((alpha_central, alpha_so))\n",
    "alpha_std = 0.2 * alpha_0\n",
    "prior = stats.multivariate_normal(mean=alpha_0, cov=np.diag((alpha_std) ** 2))"
   ]
  },
  {
   "cell_type": "markdown",
   "id": "81254730",
   "metadata": {},
   "source": [
    "## Specifying the Model"
   ]
  },
  {
   "cell_type": "code",
   "execution_count": 14,
   "id": "8ce2c12c-2eb0-45ea-875b-59d2a0a180dd",
   "metadata": {},
   "outputs": [],
   "source": [
    "from rxmc.params import Parameter"
   ]
  },
  {
   "cell_type": "code",
   "execution_count": 15,
   "id": "1d9b384d-ad67-473e-abdd-7ca1872f17e8",
   "metadata": {},
   "outputs": [
    {
     "data": {
      "text/plain": [
       "11"
      ]
     },
     "execution_count": 15,
     "metadata": {},
     "output_type": "execute_result"
    }
   ],
   "source": [
    "params = [\n",
    "    Parameter(\"Vv\", unit=\"MeV\"),\n",
    "    Parameter(\"Wv\", unit=\"MeV\"),\n",
    "    Parameter(\"Rv\", unit=\"fm\"),\n",
    "    Parameter(\"av\", unit=\"fm\"),\n",
    "    Parameter(\"Wd\", unit=\"MeV\"),\n",
    "    Parameter(\"Rd\", unit=\"fm\"),\n",
    "    Parameter(\"ad\", unit=\"fm\"),\n",
    "    Parameter(\"Vso\", unit=\"MeV\"),\n",
    "    Parameter(\"Wso\", unit=\"MeV\"),\n",
    "    Parameter(\"Rso\", unit=\"fm\"),\n",
    "    Parameter(\"aso\", unit=\"fm\"),\n",
    "]\n",
    "len(params)"
   ]
  },
  {
   "cell_type": "code",
   "execution_count": 16,
   "id": "99b4ee2a-cc17-4025-935c-6013f9daa9dd",
   "metadata": {},
   "outputs": [],
   "source": [
    "def extract_params(ws, *x):\n",
    "    Vv, Wv, Rv, av, Wd, Rd, ad, Vso, Wso, Rso, aso = x\n",
    "    central_params = (Vv, Wv, Rv, av, Wd, Rd, ad)\n",
    "    spin_orbit_params = (Vso, Wso, Rso, aso)\n",
    "    return central_params, spin_orbit_params"
   ]
  },
  {
   "cell_type": "code",
   "execution_count": 17,
   "id": "47d74961-372b-4823-aec3-0cf2600cc1cf",
   "metadata": {},
   "outputs": [],
   "source": [
    "omp = rxmc.elastic_diffxs_model.ElasticDifferentialXSModel(\n",
    "    \"dXS/dA\",\n",
    "    interaction_central=central_potential,\n",
    "    interaction_spin_orbit=spin_orbit_potential,\n",
    "    calculate_interaction_from_params=extract_params,\n",
    "    params=params,\n",
    "    model_name=\"KD_recalibration_Ca40nn\",\n",
    ")"
   ]
  },
  {
   "cell_type": "markdown",
   "id": "7568282f-6166-48e0-9887-7e1687d6c00b",
   "metadata": {},
   "source": [
    "## Set up `Observation`"
   ]
  },
  {
   "cell_type": "code",
   "execution_count": 18,
   "id": "49802665-6036-48b1-8077-213290fe3904",
   "metadata": {},
   "outputs": [],
   "source": [
    "obs = rxmc.elastic_diffxs_observation.ElasticDifferentialXSObservation(\n",
    "    measurement=m,\n",
    "    reaction=rxn,\n",
    "    quantity=\"dXS/dA\",\n",
    "    lmax=40,\n",
    ")"
   ]
  },
  {
   "cell_type": "markdown",
   "id": "d7f28134-d695-4ed5-87df-26d2619b709d",
   "metadata": {},
   "source": [
    "## Test out default values\n",
    "They should do a good job to describe our observation already. We will use them as a prior mean, so if they describe our data well, that means we will start in a high-likelihood region and converge quickly."
   ]
  },
  {
   "cell_type": "code",
   "execution_count": 19,
   "id": "1f5cec38-8c53-478d-8254-dc4fe7e5a04d",
   "metadata": {},
   "outputs": [],
   "source": [
    "yth = omp.visualizable_model_prediction(obs, *alpha_0)"
   ]
  },
  {
   "cell_type": "code",
   "execution_count": 20,
   "id": "a9df38a1-90ad-4d98-9357-ebef2dd1e885",
   "metadata": {},
   "outputs": [
    {
     "data": {
      "text/plain": [
       "Text(0.5, 1.0, '$^{40} \\\\rm{Ca}(n,el)$\\t EXFOR SUBENT: 11611003')"
      ]
     },
     "execution_count": 20,
     "metadata": {},
     "output_type": "execute_result"
    },
    {
     "data": {
      "image/png": "[encoded data removed]",
      "text/plain": [
       "<Figure size 640x480 with 1 Axes>"
      ]
     },
     "metadata": {},
     "output_type": "display_data"
    }
   ],
   "source": [
    "plt.plot(obs.angles_vis, yth)\n",
    "plt.errorbar(m.x, m.y, m.statistical_err, linestyle=\"none\", marker=\"s\")\n",
    "plt.yscale(\"log\")\n",
    "plt.xlim([0, 180])\n",
    "plt.xlabel(r\"$\\theta$ [deg]\")\n",
    "plt.ylabel(r\"$\\frac{d \\sigma}{d \\theta}$ [mb/sr]\")\n",
    "plt.title(f\"${rxn.reaction_latex}$\\t EXFOR SUBENT: {m.subentry}\")"
   ]
  },
  {
   "cell_type": "markdown",
   "id": "891430fc-8d2e-4a27-88c6-fd2df308a2ca",
   "metadata": {},
   "source": [
    "## Specify Likelihood Model and Evidence\n",
    "\n",
    "We will set `fractional_uncorrelated_error` as a fraction of the model prediction whose square will be added to the diagonal elements of the covariance while calculating the likelihood. This is often interpreted as a \"model error\", or \"unaccounted-for-error\". A better strategy would be to fit this value (e.g. using `rxmc.likelihood_model.UnknownNoiseFractionErrorModel`)."
   ]
  },
  {
   "cell_type": "code",
   "execution_count": 23,
   "id": "501f472c-11eb-4dfb-aa39-02282db0b62f",
   "metadata": {},
   "outputs": [],
   "source": [
    "likelihood = rxmc.likelihood_model.LikelihoodModel(frac_err=0.1)"
   ]
  },
  {
   "cell_type": "code",
   "execution_count": 24,
   "id": "5e1ce0c3-91c0-46d7-878d-97cf08e0fc75",
   "metadata": {},
   "outputs": [],
   "source": [
    "evidence = rxmc.evidence.Evidence(\n",
    "    [\n",
    "        rxmc.constraint.Constraint(\n",
    "            [obs],\n",
    "            omp,\n",
    "            likelihood,\n",
    "        )\n",
    "    ]\n",
    ")"
   ]
  },
  {
   "cell_type": "markdown",
   "id": "1164c8bc-970e-493a-a2ac-88ec00bb45be",
   "metadata": {},
   "source": [
    "## Specify sampling configuration"
   ]
  },
  {
   "cell_type": "code",
   "execution_count": 25,
   "id": "7245d099-69ef-4e75-be9d-388a4d4242c3",
   "metadata": {},
   "outputs": [],
   "source": [
    "def proposal_distribution_model(x, rng):\n",
    "    return stats.multivariate_normal.rvs(mean=x, cov=prior.cov / 100, random_state=rng)"
   ]
  },
  {
   "cell_type": "code",
   "execution_count": 26,
   "id": "6eefeefb-3455-4a04-b3c5-10e1cc6f3b29",
   "metadata": {},
   "outputs": [
    {
     "ename": "TypeError",
     "evalue": "SamplingConfig.__init__() got an unexpected keyword argument 'proposal'",
     "output_type": "error",
     "traceback": [
      "\u001b[0;31m---------------------------------------------------------------------------\u001b[0m",
      "\u001b[0;31mTypeError\u001b[0m                                 Traceback (most recent call last)",
      "Cell \u001b[0;32mIn[26], line 1\u001b[0m\n\u001b[0;32m----> 1\u001b[0m sampling_conf \u001b[38;5;241m=\u001b[39m \u001b[43mrxmc\u001b[49m\u001b[38;5;241;43m.\u001b[39;49m\u001b[43mparam_sampling\u001b[49m\u001b[38;5;241;43m.\u001b[39;49m\u001b[43mSamplingConfig\u001b[49m\u001b[43m(\u001b[49m\n\u001b[1;32m      2\u001b[0m \u001b[43m    \u001b[49m\u001b[43mparams\u001b[49m\u001b[38;5;241;43m=\u001b[39;49m\u001b[43momp\u001b[49m\u001b[38;5;241;43m.\u001b[39;49m\u001b[43mparams\u001b[49m\u001b[43m,\u001b[49m\n\u001b[1;32m      3\u001b[0m \u001b[43m    \u001b[49m\u001b[43mstarting_location\u001b[49m\u001b[38;5;241;43m=\u001b[39;49m\u001b[43mprior\u001b[49m\u001b[38;5;241;43m.\u001b[39;49m\u001b[43mmean\u001b[49m\u001b[43m,\u001b[49m\n\u001b[1;32m      4\u001b[0m \u001b[43m    \u001b[49m\u001b[43mproposal\u001b[49m\u001b[38;5;241;43m=\u001b[39;49m\u001b[43mproposal_distribution_model\u001b[49m\u001b[43m,\u001b[49m\n\u001b[1;32m      5\u001b[0m \u001b[43m    \u001b[49m\u001b[43mprior\u001b[49m\u001b[38;5;241;43m=\u001b[39;49m\u001b[43mprior\u001b[49m\u001b[43m,\u001b[49m\n\u001b[1;32m      6\u001b[0m \u001b[43m)\u001b[49m\n",
      "\u001b[0;31mTypeError\u001b[0m: SamplingConfig.__init__() got an unexpected keyword argument 'proposal'"
     ]
    }
   ],
   "source": [
    "sampling_conf = rxmc.param_sampling.MetropolisHastingsSampler(\n",
    "    params=omp.params,\n",
    "    starting_location=prior.mean,\n",
    "    proposal=proposal_distribution_model,\n",
    "    prior=prior,\n",
    ")"
   ]
  },
  {
   "cell_type": "markdown",
   "id": "d7d1a217-b543-48d7-959f-46396e11d2d4",
   "metadata": {},
   "source": [
    "## Build Walker"
   ]
  },
  {
   "cell_type": "code",
   "execution_count": null,
   "id": "07f4ca8e-d4b1-49d0-9f2a-07130848d4df",
   "metadata": {},
   "outputs": [],
   "source": [
    "rng = np.random.default_rng(42)"
   ]
  },
  {
   "cell_type": "code",
   "execution_count": null,
   "id": "9e436fbf-a0e9-4a14-8db7-403a47548f75",
   "metadata": {},
   "outputs": [],
   "source": [
    "walker = rxmc.walker.Walker(\n",
    "    model_sample_conf=sampling_conf,\n",
    "    evidence=evidence,\n",
    "    rng=rng,\n",
    ")"
   ]
  },
  {
   "cell_type": "markdown",
   "id": "009000c4-f4b2-405a-a15f-dff48c72bbcf",
   "metadata": {},
   "source": [
    "## Run Calibration"
   ]
  },
  {
   "cell_type": "code",
   "execution_count": null,
   "id": "6aec9be3-1f85-4e11-b545-2be53081e4ab",
   "metadata": {},
   "outputs": [],
   "source": [
    "%%time\n",
    "walker.walk(n_steps=200000)"
   ]
  },
  {
   "cell_type": "markdown",
   "id": "acb2db59-4e53-4fb3-b858-8a1ed1f6717a",
   "metadata": {},
   "source": [
    "## Write walker to disk"
   ]
  },
  {
   "cell_type": "code",
   "execution_count": null,
   "id": "a234cc54-1700-4138-9bab-4a5b07bb7a14",
   "metadata": {},
   "outputs": [],
   "source": [
    "with lzma.open(\"walker_ca40nn_kd_refit_100ksa.pkl.xz\", \"wb\") as f:\n",
    "    pickle.dump(walker, f)"
   ]
  },
  {
   "cell_type": "markdown",
   "id": "ec9e7842-9902-4827-a308-7382f4d5a776",
   "metadata": {},
   "source": [
    "## Visualize results"
   ]
  },
  {
   "cell_type": "code",
   "execution_count": null,
   "id": "178c729a-6aa1-47ea-8da6-bd50f5e8bd7c",
   "metadata": {},
   "outputs": [],
   "source": [
    "def plot_chains(walker, model, true_params):\n",
    "    fig, axes = plt.subplots(\n",
    "        walker.model_chain.shape[1] + 1, 1, figsize=(8, 12), sharex=True\n",
    "    )\n",
    "    for i in range(walker.model_chain.shape[1]):\n",
    "        axes[i].plot(walker.model_chain[:, i])\n",
    "        axes[i].set_ylabel(f\"${model.params[i].latex_name}$ [{model.params[i].unit}]\")\n",
    "        true_value = true_params[model.params[i].name]\n",
    "        axes[i].hlines(true_value, 0, len(walker.model_chain), \"r\", linestyle=\"--\")\n",
    "\n",
    "    axes[-1].plot(walker.log_posterior_record)\n",
    "    axes[-1].set_ylabel(r\"$\\log{\\mathcal{L}(\\alpha_i | \\mathcal{O})}$\")\n",
    "    axes[-1].set_xlabel(r\"$i$\")"
   ]
  },
  {
   "cell_type": "code",
   "execution_count": null,
   "id": "c44ce05c-b3fa-425c-8a7e-f712e9cf95c7",
   "metadata": {},
   "outputs": [],
   "source": [
    "def plot_posterior_corner(walker, model, true_params, num_samples=10000):\n",
    "    nsteps, npar = walker.model_chain.shape\n",
    "    chain = walker.model_chain[np.random.choice(np.arange(nsteps), num_samples), :]\n",
    "    fig = corner.corner(\n",
    "        chain,\n",
    "        labels=[p.name for p in model.params],\n",
    "        label=\"posterior\",\n",
    "        truths=[true_params[p.name] for p in model.params],\n",
    "    )\n",
    "    fig.suptitle(\"posterior\")"
   ]
  },
  {
   "cell_type": "code",
   "execution_count": null,
   "id": "e74e0d79-d363-4845-95f5-6de0cc2a088e",
   "metadata": {},
   "outputs": [],
   "source": [
    "plot_chains(walker, omp, dict([(p.name, x) for p, x in zip(params, alpha_0)]))"
   ]
  },
  {
   "cell_type": "code",
   "execution_count": null,
   "id": "952c7f8e-a88b-4960-9a88-e0c43262542b",
   "metadata": {},
   "outputs": [],
   "source": [
    "plot_posterior_corner(walker, omp, dict([(p.name, x) for p, x in zip(params, alpha_0)]))"
   ]
  },
  {
   "cell_type": "code",
   "execution_count": null,
   "id": "02fdc4ea-e911-421c-b0fb-6353de696881",
   "metadata": {},
   "outputs": [],
   "source": [
    "n_steps, _ = walker.model_chain.shape"
   ]
  },
  {
   "cell_type": "code",
   "execution_count": null,
   "id": "340d4e41-a4dc-419d-8cd5-18d8bbccbc3c",
   "metadata": {},
   "outputs": [],
   "source": [
    "num_samples = 1000\n",
    "samples = walker.model_chain[np.random.choice(np.arange(n_steps), num_samples), :]"
   ]
  },
  {
   "cell_type": "code",
   "execution_count": null,
   "id": "3fafd04b-0730-40e5-b61e-886c218d8bd2",
   "metadata": {},
   "outputs": [],
   "source": [
    "y_pred_post = np.zeros((num_samples, len(obs.angles_vis)))"
   ]
  },
  {
   "cell_type": "code",
   "execution_count": null,
   "id": "e8da2169-8545-4e3a-bf92-b33dea5e8699",
   "metadata": {},
   "outputs": [],
   "source": [
    "for i in tqdm(range(num_samples)):\n",
    "    y_pred_post[i, :] = omp.visualizable_model_prediction(obs, *samples[i, :])"
   ]
  },
  {
   "cell_type": "code",
   "execution_count": null,
   "id": "f9ece702-9386-4ae5-9027-95d4b8c0d0ad",
   "metadata": {},
   "outputs": [],
   "source": [
    "lower, med, upper = np.percentile(y_pred_post, [5, 50, 95], axis=0)"
   ]
  },
  {
   "cell_type": "code",
   "execution_count": null,
   "id": "e1d85c94-119a-4118-a87d-573ebe448e45",
   "metadata": {},
   "outputs": [],
   "source": [
    "plt.plot(\n",
    "    obs.angles_vis,\n",
    "    med,\n",
    "    \":\",\n",
    ")\n",
    "plt.fill_between(\n",
    "    obs.angles_vis, lower, upper, alpha=0.3, label=\"recal, inner 90th pctl\"\n",
    ")\n",
    "plt.errorbar(\n",
    "    m.x,\n",
    "    m.y,\n",
    "    m.statistical_err,\n",
    "    linestyle=\"none\",\n",
    "    marker=\"s\",\n",
    "    label=\"McDonald & Robson, 1964\",\n",
    ")\n",
    "plt.plot(obs.angles_vis, omp.visualizable_model_prediction(obs, *alpha_0), label=\"KD\")\n",
    "\n",
    "plt.yscale(\"log\")\n",
    "plt.xlim([0, 180])\n",
    "plt.xlabel(r\"$\\theta$ [deg]\")\n",
    "plt.ylabel(r\"$\\frac{d \\sigma}{d \\theta}$ [mb/sr]\")\n",
    "plt.legend()\n",
    "plt.title(f\"${rxn.reaction_latex}$\\t EXFOR SUBENT: {m.subentry}\")"
   ]
  }
 ],
 "metadata": {
  "kernelspec": {
   "display_name": "Python 3 (ipykernel)",
   "language": "python",
   "name": "python3"
  },
  "language_info": {
   "codemirror_mode": {
    "name": "ipython",
    "version": 3
   },
   "file_extension": ".py",
   "mimetype": "text/x-python",
   "name": "python",
   "nbconvert_exporter": "python",
   "pygments_lexer": "ipython3",
   "version": "3.10.13"
  }
 },
 "nbformat": 4,
 "nbformat_minor": 5
}
