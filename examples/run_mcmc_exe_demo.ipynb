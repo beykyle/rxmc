{
 "cells": [
  {
   "cell_type": "code",
   "execution_count": 22,
   "id": "fab553c5-8552-4767-942e-00da5bcd9472",
   "metadata": {},
   "outputs": [],
   "source": [
    "import subprocess"
   ]
  },
  {
   "cell_type": "code",
   "execution_count": 23,
   "id": "4dec6b03-6e72-4c77-befc-1f257e2a5c0e",
   "metadata": {},
   "outputs": [
    {
     "name": "stdout",
     "output_type": "stream",
     "text": [
      "/home/beyerk/mambaforge/envs/sage/bin/mcmc\n"
     ]
    },
    {
     "data": {
      "text/plain": [
       "CompletedProcess(args=['which', 'mcmc'], returncode=0)"
      ]
     },
     "execution_count": 23,
     "metadata": {},
     "output_type": "execute_result"
    }
   ],
   "source": [
    "subprocess.run([\"which\", \"mcmc\"])"
   ]
  },
  {
   "cell_type": "code",
   "execution_count": 24,
   "id": "8c6652d6-f521-4288-9afa-fbae9266a23e",
   "metadata": {},
   "outputs": [
    {
     "name": "stdout",
     "output_type": "stream",
     "text": [
      "Using database version X4-2024-12-31 located in: /home/beyerk/db/exfor/unpack_exfor-2024/X4-2024-12-31\n",
      "usage: mcmc [-h] [--nsteps NSTEPS] [--burnin BURNIN] [--batch_size BATCH_SIZE]\n",
      "            [--output OUTPUT]\n",
      "            [--proposal_cov_scale_factor PROPOSAL_COV_SCALE_FACTOR]\n",
      "            [--seed SEED] [--verbose VERBOSE] --corpus_path CORPUS_PATH\n",
      "            --prior_path PRIOR_PATH\n",
      "\n",
      "Run MCMC with independent walkers each on their own MPI ranks\n",
      "\n",
      "options:\n",
      "  -h, --help            show this help message and exit\n",
      "  --nsteps NSTEPS       Total number of MCMC steps per chain (including burn-\n",
      "                        in).\n",
      "  --burnin BURNIN       Number of steps to not log at the beginning of each\n",
      "                        chain\n",
      "  --batch_size BATCH_SIZE\n",
      "                        Number of steps per batch to incrementally write to\n",
      "                        file\n",
      "  --output OUTPUT       Directory to write output to. If it doesn't exist it\n",
      "                        will be created. All outputs will be written to it as\n",
      "                        .np files\n",
      "  --proposal_cov_scale_factor PROPOSAL_COV_SCALE_FACTOR\n",
      "                        ratio of diagonal elements in prior covariance to\n",
      "                        corresponding diagonal elements in proposal\n",
      "                        distribution\n",
      "  --seed SEED           RNG seed for rank 0. All ranks will use seed + rank as\n",
      "                        their seed.\n",
      "  --verbose VERBOSE     Verbose printing\n",
      "  --corpus_path CORPUS_PATH\n",
      "                        Path to constraint corpus pickle object\n",
      "  --prior_path PRIOR_PATH\n",
      "                        Path to prior distribution pickle object\n"
     ]
    },
    {
     "data": {
      "text/plain": [
       "CompletedProcess(args=['mcmc', '--help'], returncode=0)"
      ]
     },
     "execution_count": 24,
     "metadata": {},
     "output_type": "execute_result"
    }
   ],
   "source": [
    "subprocess.run([\"mcmc\", \"--help\"])"
   ]
  }
 ],
 "metadata": {
  "kernelspec": {
   "display_name": "Python 3 (ipykernel)",
   "language": "python",
   "name": "python3"
  },
  "language_info": {
   "codemirror_mode": {
    "name": "ipython",
    "version": 3
   },
   "file_extension": ".py",
   "mimetype": "text/x-python",
   "name": "python",
   "nbconvert_exporter": "python",
   "pygments_lexer": "ipython3",
   "version": "3.11.9"
  }
 },
 "nbformat": 4,
 "nbformat_minor": 5
}
