{
 "cells": [
  {
   "cell_type": "markdown",
   "id": "5add9362-edc2-4c55-a0ff-1fc5cf1d4ed7",
   "metadata": {},
   "source": [
    "# Calibration of a line to data comparing approaches to dealing with systematic error"
   ]
  },
  {
   "cell_type": "code",
   "execution_count": 1,
   "id": "8767a251-6f0c-4c5d-83ed-dba84368a0e6",
   "metadata": {},
   "outputs": [
    {
     "name": "stdout",
     "output_type": "stream",
     "text": [
      "Using database version X4-2024-12-31 located in: /home/beyerk/db/exfor/unpack_exfor-2024/X4-2024-12-31\n"
     ]
    }
   ],
   "source": [
    "import rxmc"
   ]
  },
  {
   "cell_type": "code",
   "execution_count": 2,
   "id": "69d96b52-427c-4345-8622-d2726544a77c",
   "metadata": {},
   "outputs": [],
   "source": [
    "from collections import OrderedDict\n",
    "\n",
    "import corner\n",
    "import matplotlib.patches as mpatches\n",
    "import numpy as np\n",
    "from matplotlib import pyplot as plt\n",
    "from scipy import stats"
   ]
  },
  {
   "cell_type": "markdown",
   "id": "fcf6b674-c76d-47a4-852c-11e57538e625",
   "metadata": {},
   "source": [
    "## make the model"
   ]
  },
  {
   "cell_type": "code",
   "execution_count": 3,
   "id": "9f859e53-c6f9-4d88-b7bf-bbc5bc9ab686",
   "metadata": {},
   "outputs": [],
   "source": [
    "class LinearModel(rxmc.physical_model.PhysicalModel):\n",
    "    def __init__(self):\n",
    "        params = [\n",
    "            rxmc.params.Parameter(\"m\", float, \"no-units\"),\n",
    "            rxmc.params.Parameter(\"b\", float, \"y-units\"),\n",
    "        ]\n",
    "        super().__init__(params)\n",
    "\n",
    "    def evaluate(self, observation, m, b):\n",
    "        return self.y(observation.x, m, b)\n",
    "\n",
    "    def y(self, x, m, b):\n",
    "        # useful to have a function hat takes in an array-like x\n",
    "        # rather than an Observation, e.g. for plotting\n",
    "        return m * x + b"
   ]
  },
  {
   "cell_type": "code",
   "execution_count": 4,
   "id": "931eb9c2-6dfe-4538-98c1-c940333f5406",
   "metadata": {},
   "outputs": [],
   "source": [
    "my_model = LinearModel()"
   ]
  },
  {
   "cell_type": "markdown",
   "id": "cf188ab7-8ee4-47b7-9d77-2e2e358a1bbf",
   "metadata": {},
   "source": [
    "## set up prior"
   ]
  },
  {
   "cell_type": "code",
   "execution_count": 5,
   "id": "1ee04e0a-9d10-479c-b0d5-cd4e2b2bd55b",
   "metadata": {},
   "outputs": [],
   "source": [
    "prior_mean = OrderedDict(\n",
    "    [\n",
    "        (\"m\", 1),\n",
    "        (\"b\", 1),\n",
    "    ]\n",
    ")\n",
    "prior_std_dev = OrderedDict(\n",
    "    [\n",
    "        (\"m\", 0.3),\n",
    "        (\"b\", 1),\n",
    "    ]\n",
    ")"
   ]
  },
  {
   "cell_type": "code",
   "execution_count": 6,
   "id": "5107c785-2e6e-4c10-a5b0-c8eaf906549f",
   "metadata": {},
   "outputs": [],
   "source": [
    "covariance = np.diag(list(prior_std_dev.values())) ** 2\n",
    "mean = np.array(list(prior_mean.values()))"
   ]
  },
  {
   "cell_type": "code",
   "execution_count": 7,
   "id": "83f3aa88-71a2-419b-9351-72d6d140b4d9",
   "metadata": {},
   "outputs": [],
   "source": [
    "n_prior_samples = 100000\n",
    "prior_distribution = stats.multivariate_normal(mean, covariance)\n",
    "prior_samples = prior_distribution.rvs(size=n_prior_samples)"
   ]
  },
  {
   "cell_type": "markdown",
   "id": "864451a0-4357-4e20-95ee-c80b64338e39",
   "metadata": {},
   "source": [
    "Let's plot some samples of lines from this prior"
   ]
  },
  {
   "cell_type": "code",
   "execution_count": 8,
   "id": "d251f717-09be-4280-b59d-de137fd7cfc2",
   "metadata": {},
   "outputs": [],
   "source": [
    "prior_mean = OrderedDict(\n",
    "    [\n",
    "        (\"m\", 1),\n",
    "        (\"b\", 1),\n",
    "    ]\n",
    ")\n",
    "prior_std_dev = OrderedDict(\n",
    "    [\n",
    "        (\"m\", 1),\n",
    "        (\"b\", 1),\n",
    "    ]\n",
    ")"
   ]
  },
  {
   "cell_type": "code",
   "execution_count": 9,
   "id": "016fc2de-c206-44c1-916a-a3b663a8fd25",
   "metadata": {},
   "outputs": [],
   "source": [
    "covariance = np.diag(list(prior_std_dev.values())) ** 2\n",
    "mean = np.array(list(prior_mean.values()))"
   ]
  },
  {
   "cell_type": "code",
   "execution_count": 10,
   "id": "d28fcb22-9ca7-4846-9cba-24b7b4808e2c",
   "metadata": {},
   "outputs": [],
   "source": [
    "n_prior_samples = 100000\n",
    "prior_distribution = stats.multivariate_normal(mean, covariance)\n",
    "prior_samples = prior_distribution.rvs(size=n_prior_samples)"
   ]
  },
  {
   "cell_type": "markdown",
   "id": "278a52b1-4326-43a4-8157-0b9e7e24a352",
   "metadata": {},
   "source": [
    "## find observations to calibrate to\n",
    "Compared to the previous demo, we will include a systematic error due to normalization in our synthetic data. "
   ]
  },
  {
   "cell_type": "code",
   "execution_count": 11,
   "id": "138cb996-aab0-4a80-b0ae-eb07677b33cd",
   "metadata": {},
   "outputs": [],
   "source": [
    "true_params = OrderedDict(\n",
    "    [\n",
    "        (\"m\", 0.6),\n",
    "        (\"b\", 2),\n",
    "    ]\n",
    ")"
   ]
  },
  {
   "cell_type": "code",
   "execution_count": 12,
   "id": "6e6b4a56-38df-44ef-8cd0-0454ab01ad2a",
   "metadata": {},
   "outputs": [],
   "source": [
    "rng = np.random.default_rng(13)"
   ]
  },
  {
   "cell_type": "code",
   "execution_count": 13,
   "id": "37bd2c80-2873-4f73-b994-2101b42bec7f",
   "metadata": {},
   "outputs": [],
   "source": [
    "systematic_fractional_err = 0.07\n",
    "# choose a normalization 1 std deviation below the mean\n",
    "N = 1 - systematic_fractional_err\n",
    "noise = 0.05\n",
    "x = np.linspace(0.01, 1.0, 10, dtype=float)\n",
    "y_stat_err = noise * np.ones_like(x) * N  # noise is just a constant fraction of y\n",
    "y_true = my_model.y(x, *list(true_params.values()))\n",
    "y_exp = (y_true + rng.normal(scale=noise, size=len(x))) * N"
   ]
  },
  {
   "cell_type": "code",
   "execution_count": 14,
   "id": "7247bee4-67b8-4ac6-8f21-74373b733177",
   "metadata": {},
   "outputs": [
    {
     "data": {
      "text/plain": [
       "Text(0.5, 1.0, 'experimental constraint with bias')"
      ]
     },
     "execution_count": 14,
     "metadata": {},
     "output_type": "execute_result"
    },
    {
     "data": {
      "image/png": "[encoded data removed]",
      "text/plain": [
       "<Figure size 640x480 with 1 Axes>"
      ]
     },
     "metadata": {},
     "output_type": "display_data"
    }
   ],
   "source": [
    "plt.errorbar(\n",
    "    x,\n",
    "    y_exp,\n",
    "    y_stat_err,\n",
    "    color=\"k\",\n",
    "    marker=\"o\",\n",
    "    linestyle=\"none\",\n",
    "    label=\"experiment with bias\",\n",
    ")\n",
    "plt.plot(x, y_true, \"k--\", label=\"truth\")\n",
    "plt.xlabel(\"x\")\n",
    "plt.ylabel(\"y\")\n",
    "plt.legend()\n",
    "plt.title(\"experimental constraint with bias\")"
   ]
  },
  {
   "cell_type": "markdown",
   "id": "b5284f41-4a29-4c2a-b1ba-3497910bc120",
   "metadata": {},
   "source": [
    "## Compare Likelihood Models\n",
    "We will look at a few different cases:\n",
    "1. Covariance is fixed to just statistical error (disregarding systematic error)\n",
    "\n",
    "   \\begin{equation}\n",
    "       \\Sigma_{ij} = \\delta_{ij} \\sigma_{stat,i}^2\n",
    "   \\end{equation}\n",
    "\n",
    "3. Covariance is just statistical error, but we fit the magnitude of the statistical noise $\\eta$ (disregarding systematic error). This means the covariance is not fixed, but will be updated during calibration.\n",
    "\n",
    "   \\begin{equation}\n",
    "       \\Sigma_{ij} = \\delta_{ij} \\eta^2\n",
    "   \\end{equation}\n",
    "\n",
    "\n",
    "5. Systematic error is included properly in covariance, making the covariance a function of the model prediction. Again, this means the covariance is not fixed, but will be updated during calibration.\n",
    "\n",
    "    \\begin{equation}\n",
    "       \\Sigma_{ij}(\\alpha) = \\delta_{ij} \\sigma_{stat,i}^2 + \\sigma_N^2 y_m(x_i; \\alpha) y_m(x_j; \\alpha)\n",
    "   \\end{equation}\n",
    "\n",
    "7. Systematic error is included improperly in covariance, using the experimental $y(x_i)$ instead of the model prediction $y_m(x_i;\\alpha)$. In this case the covariance is again fixed.\n",
    "\n",
    "    \\begin{equation}\n",
    "       \\Sigma_{ij} = \\delta_{ij} \\sigma_{stat,i}^2 + \\sigma_N^2 y(x_i) y(x_j)\n",
    "   \\end{equation}\n"
   ]
  },
  {
   "cell_type": "code",
   "execution_count": 15,
   "id": "b5f05c68-32ab-467d-8635-94f6ffd9c4de",
   "metadata": {},
   "outputs": [],
   "source": [
    "# 1 and 2\n",
    "obs_stat_only = rxmc.observation.FixedCovarianceObservation(\n",
    "    x=x,\n",
    "    y=y_exp,\n",
    "    covariance=np.diag(y_stat_err**2),\n",
    ")\n",
    "\n",
    "# 3\n",
    "obs_sys_norm_correct = rxmc.observation.Observation(\n",
    "    x=x,\n",
    "    y=y_exp,\n",
    "    y_stat_err=y_stat_err,\n",
    "    y_sys_err_normalization=systematic_fractional_err,\n",
    ")\n",
    "\n",
    "# 4\n",
    "obs_sys_norm_wrong = rxmc.observation.FixedCovarianceObservation(\n",
    "    x=x,\n",
    "    y=y_exp,\n",
    "    covariance=np.diag(y_stat_err**2)\n",
    "    + systematic_fractional_err**2 * np.outer(y_exp, y_exp),\n",
    ")"
   ]
  },
  {
   "cell_type": "markdown",
   "id": "4818c696-b984-4145-b911-5307782e0dd5",
   "metadata": {},
   "source": [
    "## set up likelihood models and constraints"
   ]
  },
  {
   "cell_type": "code",
   "execution_count": 16,
   "id": "34d5d663-8735-4c87-b05d-12a886204959",
   "metadata": {},
   "outputs": [],
   "source": [
    "# 1 and 4\n",
    "likelihood_fixed_cov = rxmc.likelihood_model.FixedCovarianceLikelihood()\n",
    "\n",
    "# 2\n",
    "likelihood_unknown_stat = rxmc.likelihood_model.UnknownNoiseErrorModel()\n",
    "\n",
    "# 3\n",
    "likelihood_sys_correct = rxmc.likelihood_model.LikelihoodWithSystematicError()"
   ]
  },
  {
   "cell_type": "code",
   "execution_count": 17,
   "id": "ea87d212-bb42-4174-b274-f785b8e29e8f",
   "metadata": {},
   "outputs": [],
   "source": [
    "# 1\n",
    "constraint_stat_only = rxmc.constraint.Constraint(\n",
    "    [obs_stat_only],\n",
    "    my_model,\n",
    "    likelihood_fixed_cov,\n",
    ")\n",
    "\n",
    "# 2\n",
    "constraint_unknown_stat = rxmc.constraint.Constraint(\n",
    "    [obs_stat_only],\n",
    "    my_model,\n",
    "    likelihood_unknown_stat,\n",
    ")\n",
    "\n",
    "# 3\n",
    "constraint_sys_correct = rxmc.constraint.Constraint(\n",
    "    [obs_sys_norm_correct],\n",
    "    my_model,\n",
    "    likelihood_sys_correct,\n",
    ")\n",
    "\n",
    "# 4\n",
    "constraint_sys_wrong = rxmc.constraint.Constraint(\n",
    "    [obs_sys_norm_wrong],\n",
    "    my_model,\n",
    "    likelihood_fixed_cov,\n",
    ")"
   ]
  },
  {
   "cell_type": "markdown",
   "id": "fbb7e0d9-8a86-4228-9372-ee63dfad5ee3",
   "metadata": {},
   "source": [
    "## Run option 1: fixed covariance, statistical error only"
   ]
  },
  {
   "cell_type": "code",
   "execution_count": 18,
   "id": "194af035-fafd-4c64-8b58-0f7af34bb685",
   "metadata": {},
   "outputs": [
    {
     "ename": "ValueError",
     "evalue": "If likelihood_starting_point is provided, likelihood_prior must also be provided.",
     "output_type": "error",
     "traceback": [
      "\u001b[0;31m---------------------------------------------------------------------------\u001b[0m",
      "\u001b[0;31mValueError\u001b[0m                                Traceback (most recent call last)",
      "File \u001b[0;32m<timed exec>:1\u001b[0m\n",
      "File \u001b[0;32m~/Projects/rxmc/src/rxmc/mcmc.py:201\u001b[0m, in \u001b[0;36mrun_chain\u001b[0;34m(prior, corpus, nsteps, burnin, seed, batch_size, rank, proposal_cov_scale_factor, starting_point, proposal_distribution, likelihood_prior, likelihood_starting_point, likelihood_proposal_distribution, verbose, output)\u001b[0m\n\u001b[1;32m    199\u001b[0m     y0 \u001b[38;5;241m=\u001b[39m likelihood_prior\u001b[38;5;241m.\u001b[39mmean\n\u001b[1;32m    200\u001b[0m \u001b[38;5;28;01melif\u001b[39;00m likelihood_prior \u001b[38;5;129;01mis\u001b[39;00m \u001b[38;5;28;01mNone\u001b[39;00m:\n\u001b[0;32m--> 201\u001b[0m     \u001b[38;5;28;01mraise\u001b[39;00m \u001b[38;5;167;01mValueError\u001b[39;00m(\n\u001b[1;32m    202\u001b[0m         \u001b[38;5;124m\"\u001b[39m\u001b[38;5;124mIf likelihood_starting_point is provided, \u001b[39m\u001b[38;5;124m\"\u001b[39m\n\u001b[1;32m    203\u001b[0m         \u001b[38;5;124m\"\u001b[39m\u001b[38;5;124mlikelihood_prior must also be provided.\u001b[39m\u001b[38;5;124m\"\u001b[39m\n\u001b[1;32m    204\u001b[0m     )\n\u001b[1;32m    206\u001b[0m \u001b[38;5;28;01mif\u001b[39;00m gibbs_sampling_on:\n\u001b[1;32m    207\u001b[0m     \u001b[38;5;28;01mpass\u001b[39;00m\n",
      "\u001b[0;31mValueError\u001b[0m: If likelihood_starting_point is provided, likelihood_prior must also be provided."
     ]
    }
   ],
   "source": [
    "%%time\n",
    "logl, chain, accepted_frac = rxmc.mcmc.run_chain(\n",
    "    prior_distribution,\n",
    "    rxmc.corpus.Corpus([constraint_stat_only]),\n",
    "    nsteps=10000,\n",
    "    burnin=1000,\n",
    "    verbose=True,\n",
    ")"
   ]
  },
  {
   "cell_type": "code",
   "execution_count": 19,
   "id": "98de6f5c-2c40-44bf-9120-bd2f1c809273",
   "metadata": {},
   "outputs": [
    {
     "ename": "NameError",
     "evalue": "name 'chain' is not defined",
     "output_type": "error",
     "traceback": [
      "\u001b[0;31m---------------------------------------------------------------------------\u001b[0m",
      "\u001b[0;31mNameError\u001b[0m                                 Traceback (most recent call last)",
      "Cell \u001b[0;32mIn[19], line 1\u001b[0m\n\u001b[0;32m----> 1\u001b[0m fig, axes \u001b[38;5;241m=\u001b[39m plt\u001b[38;5;241m.\u001b[39msubplots(\u001b[43mchain\u001b[49m\u001b[38;5;241m.\u001b[39mshape[\u001b[38;5;241m1\u001b[39m] \u001b[38;5;241m+\u001b[39m \u001b[38;5;241m1\u001b[39m, \u001b[38;5;241m1\u001b[39m, figsize\u001b[38;5;241m=\u001b[39m(\u001b[38;5;241m8\u001b[39m, \u001b[38;5;241m8\u001b[39m), sharex\u001b[38;5;241m=\u001b[39m\u001b[38;5;28;01mTrue\u001b[39;00m)\n\u001b[1;32m      2\u001b[0m \u001b[38;5;28;01mfor\u001b[39;00m i \u001b[38;5;129;01min\u001b[39;00m \u001b[38;5;28mrange\u001b[39m(chain\u001b[38;5;241m.\u001b[39mshape[\u001b[38;5;241m1\u001b[39m]):\n\u001b[1;32m      3\u001b[0m     axes[i]\u001b[38;5;241m.\u001b[39mplot(chain[:, i])\n",
      "\u001b[0;31mNameError\u001b[0m: name 'chain' is not defined"
     ]
    }
   ],
   "source": [
    "fig, axes = plt.subplots(chain.shape[1] + 1, 1, figsize=(8, 8), sharex=True)\n",
    "for i in range(chain.shape[1]):\n",
    "    axes[i].plot(chain[:, i])\n",
    "    axes[i].set_ylabel(f\"${my_model.params[i].latex_name}$ [{my_model.params[i].unit}]\")\n",
    "    true_value = true_params[my_model.params[i].name]\n",
    "    axes[i].hlines(true_value, 0, len(chain), \"r\", linestyle=\"--\")\n",
    "\n",
    "\n",
    "axes[-1].plot(logl)\n",
    "axes[-1].set_ylabel(r\"$\\log{\\mathcal{L}(\\alpha_i | \\mathcal{O})}$\")\n",
    "\n",
    "axes[-1].set_xlabel(r\"$i$\")\n",
    "# plt.legend(title=\"chains\", ncol=3,)"
   ]
  },
  {
   "cell_type": "code",
   "execution_count": null,
   "id": "6ab31e79-fe06-414f-bfac-c4f69611c4e4",
   "metadata": {},
   "outputs": [],
   "source": [
    "posterior_range = np.vstack([np.min(chain, axis=0), np.max(chain, axis=0)]).T"
   ]
  },
  {
   "cell_type": "code",
   "execution_count": null,
   "id": "046db588-a17b-4de4-a428-5d8e0612e2a1",
   "metadata": {},
   "outputs": [],
   "source": [
    "fig = corner.corner(\n",
    "    chain,\n",
    "    labels=[p.name for p in my_model.params],\n",
    "    label=\"posterior\",\n",
    "    truths=[true_params[\"m\"], true_params[\"b\"]],\n",
    ")\n",
    "fig.suptitle(\"posterior\")"
   ]
  },
  {
   "cell_type": "code",
   "execution_count": null,
   "id": "ffa5c56b-90c2-425f-8e09-6bbd8b0541a3",
   "metadata": {},
   "outputs": [],
   "source": [
    "n_posterior_samples = chain.shape[0]\n",
    "y = np.zeros((n_posterior_samples, len(x)))\n",
    "for i in range(n_posterior_samples):\n",
    "    sample = chain[i, :]\n",
    "    y[i, :] = my_model.y(x, *sample)\n",
    "\n",
    "upper, lower = np.percentile(y, [5, 95], axis=0)"
   ]
  },
  {
   "cell_type": "code",
   "execution_count": null,
   "id": "39da7cf7-45ea-499f-ba41-461a54996a85",
   "metadata": {},
   "outputs": [],
   "source": [
    "plt.errorbar(\n",
    "    x,\n",
    "    y_exp,\n",
    "    y_stat_err,\n",
    "    color=\"k\",\n",
    "    marker=\"o\",\n",
    "    linestyle=\"none\",\n",
    "    label=\"experiment with bias\",\n",
    ")\n",
    "plt.plot(x, y_true, \"k--\", label=\"truth\")\n",
    "plt.fill_between(\n",
    "    x,\n",
    "    lower,\n",
    "    upper,\n",
    "    alpha=0.5,\n",
    "    zorder=2,\n",
    "    label=r\"posterior inner 90$^\\text{th}$ pctl\",\n",
    ")\n",
    "plt.xlabel(\"x\")\n",
    "plt.ylabel(\"y\")\n",
    "plt.legend()\n",
    "plt.title(\"statistical error only\")"
   ]
  },
  {
   "cell_type": "markdown",
   "id": "2799a418-343d-428e-a2d2-93bae9444858",
   "metadata": {},
   "source": [
    "## Run option 2: unknown statistical error"
   ]
  },
  {
   "cell_type": "code",
   "execution_count": null,
   "id": "a9be0ed0-9c47-4aca-aeb7-c980a7c37bf8",
   "metadata": {},
   "outputs": [],
   "source": [
    "noise_prior = stats.norm(loc=noise, scale=noise/10)\n",
    "print(f\"mean: {noise_prior.mean():1.2f} std: {noise_prior.std():1.2}\")"
   ]
  },
  {
   "cell_type": "code",
   "execution_count": null,
   "id": "1f2607eb-f488-4788-8f4b-d3a819da1572",
   "metadata": {},
   "outputs": [],
   "source": [
    "def noise_proposal(x):\n",
    "    return stats.norm.rvs(loc=x, scale=noise/100)"
   ]
  },
  {
   "cell_type": "code",
   "execution_count": null,
   "id": "396e21a8-3866-4f04-9ad3-8e401ddb8ccd",
   "metadata": {},
   "outputs": [],
   "source": [
    "%%time\n",
    "logl, chain, accepted_frac = rxmc.mcmc.run_chain(\n",
    "    prior_distribution,\n",
    "    rxmc.corpus.Corpus([constraint_sys_correct]),\n",
    "    nsteps=10000,\n",
    "    burnin=1000,\n",
    "    verbose=True,\n",
    ")"
   ]
  },
  {
   "cell_type": "markdown",
   "id": "52954ccf-9f53-47d2-aa58-d57ac5cd2394",
   "metadata": {},
   "source": [
    "## Run option 3: correct formulation of the systematic error"
   ]
  },
  {
   "cell_type": "code",
   "execution_count": null,
   "id": "0c72b08a-111d-4019-b95b-3fb56a9c8fff",
   "metadata": {},
   "outputs": [],
   "source": [
    "%%time\n",
    "logl, chain, accepted_frac = rxmc.mcmc.run_chain(\n",
    "    prior_distribution,\n",
    "    rxmc.corpus.Corpus([constraint_sys_correct]),\n",
    "    nsteps=10000,\n",
    "    burnin=1000,\n",
    "    verbose=True,\n",
    ")"
   ]
  },
  {
   "cell_type": "code",
   "execution_count": null,
   "id": "229fd517-37f2-4605-85d8-e8d83090d2f7",
   "metadata": {},
   "outputs": [],
   "source": [
    "fig, axes = plt.subplots(chain.shape[1] + 1, 1, figsize=(8, 8), sharex=True)\n",
    "for i in range(chain.shape[1]):\n",
    "    axes[i].plot(chain[:, i])\n",
    "    axes[i].set_ylabel(f\"${my_model.params[i].latex_name}$ [{my_model.params[i].unit}]\")\n",
    "    true_value = true_params[my_model.params[i].name]\n",
    "    axes[i].hlines(true_value, 0, len(chain), \"r\", linestyle=\"--\")\n",
    "\n",
    "\n",
    "axes[-1].plot(logl)\n",
    "axes[-1].set_ylabel(r\"$\\log{\\mathcal{L}(\\alpha_i | \\mathcal{O})}$\")\n",
    "\n",
    "axes[-1].set_xlabel(r\"$i$\")\n",
    "# plt.legend(title=\"chains\", ncol=3,)"
   ]
  },
  {
   "cell_type": "code",
   "execution_count": null,
   "id": "9ddade5e-8655-4788-b0cc-bd3e281348b7",
   "metadata": {},
   "outputs": [],
   "source": [
    "posterior_range = np.vstack([np.min(chain, axis=0), np.max(chain, axis=0)]).T"
   ]
  },
  {
   "cell_type": "code",
   "execution_count": null,
   "id": "3a525d66-b99f-4383-a702-c3c11b76f5c0",
   "metadata": {},
   "outputs": [],
   "source": [
    "fig = corner.corner(\n",
    "    chain,\n",
    "    labels=[p.name for p in my_model.params],\n",
    "    label=\"posterior\",\n",
    "    truths=[true_params[\"m\"], true_params[\"b\"]],\n",
    ")\n",
    "fig.suptitle(\"posterior\")"
   ]
  },
  {
   "cell_type": "code",
   "execution_count": null,
   "id": "9dedd4be-cc6a-4aa6-869b-4387f4b3d3a1",
   "metadata": {},
   "outputs": [],
   "source": [
    "n_posterior_samples = chain.shape[0]\n",
    "y = np.zeros((n_posterior_samples, len(x)))\n",
    "for i in range(n_posterior_samples):\n",
    "    sample = chain[i, :]\n",
    "    y[i, :] = my_model.y(x, *sample)\n",
    "\n",
    "upper, lower = np.percentile(y, [5, 95], axis=0)"
   ]
  },
  {
   "cell_type": "code",
   "execution_count": null,
   "id": "8c29172c-36db-401d-83e2-10ebd5771888",
   "metadata": {},
   "outputs": [],
   "source": [
    "plt.errorbar(\n",
    "    x,\n",
    "    y_exp,\n",
    "    y_stat_err,\n",
    "    color=\"k\",\n",
    "    marker=\"o\",\n",
    "    linestyle=\"none\",\n",
    "    label=\"experiment with bias\",\n",
    ")\n",
    "plt.plot(x, y_true, \"k--\", label=\"truth\")\n",
    "plt.fill_between(\n",
    "    x,\n",
    "    lower,\n",
    "    upper,\n",
    "    alpha=0.5,\n",
    "    zorder=2,\n",
    "    label=r\"posterior inner 90$^\\text{th}$ pctl\",\n",
    ")\n",
    "plt.xlabel(\"x\")\n",
    "plt.ylabel(\"y\")\n",
    "plt.legend()\n",
    "plt.title(\"Correct systematic error\")"
   ]
  },
  {
   "cell_type": "markdown",
   "id": "2f0eabad-7e56-45a7-aed1-9d685946d0d5",
   "metadata": {},
   "source": [
    "## run option 4: fixed covariance with wrong systematic error"
   ]
  },
  {
   "cell_type": "code",
   "execution_count": null,
   "id": "8e2391c2-4883-487e-8ff5-f86280f2107a",
   "metadata": {},
   "outputs": [],
   "source": [
    "%%time\n",
    "logl, chain, accepted_frac = rxmc.mcmc.run_chain(\n",
    "    prior_distribution,\n",
    "    rxmc.corpus.Corpus([constraint_sys_wrong]),\n",
    "    nsteps=10000,\n",
    "    burnin=1000,\n",
    "    verbose=True,\n",
    ")"
   ]
  },
  {
   "cell_type": "code",
   "execution_count": null,
   "id": "a45eefbd-3a59-4ee7-af1b-2935fbb2052c",
   "metadata": {},
   "outputs": [],
   "source": [
    "fig, axes = plt.subplots(chain.shape[1] + 1, 1, figsize=(8, 8), sharex=True)\n",
    "for i in range(chain.shape[1]):\n",
    "    axes[i].plot(chain[:, i])\n",
    "    axes[i].set_ylabel(f\"${my_model.params[i].latex_name}$ [{my_model.params[i].unit}]\")\n",
    "    true_value = true_params[my_model.params[i].name]\n",
    "    axes[i].hlines(true_value, 0, len(chain), \"r\", linestyle=\"--\")\n",
    "\n",
    "\n",
    "axes[-1].plot(logl)\n",
    "axes[-1].set_ylabel(r\"$\\log{\\mathcal{L}(\\alpha_i | \\mathcal{O})}$\")\n",
    "\n",
    "axes[-1].set_xlabel(r\"$i$\")\n",
    "# plt.legend(title=\"chains\", ncol=3,)"
   ]
  },
  {
   "cell_type": "code",
   "execution_count": null,
   "id": "af2c1647-c917-4f4f-a000-ab2c51e520c7",
   "metadata": {},
   "outputs": [],
   "source": [
    "posterior_range = np.vstack([np.min(chain, axis=0), np.max(chain, axis=0)]).T"
   ]
  },
  {
   "cell_type": "code",
   "execution_count": null,
   "id": "a5681c97-4b24-4fcd-b07e-16eae65c09c1",
   "metadata": {},
   "outputs": [],
   "source": [
    "fig = corner.corner(\n",
    "    chain,\n",
    "    labels=[p.name for p in my_model.params],\n",
    "    label=\"posterior\",\n",
    "    truths=[true_params[\"m\"], true_params[\"b\"]],\n",
    ")\n",
    "fig.suptitle(\"posterior\")"
   ]
  },
  {
   "cell_type": "code",
   "execution_count": null,
   "id": "1769302d-b486-42f8-ba3f-c117dead680d",
   "metadata": {},
   "outputs": [],
   "source": [
    "n_posterior_samples = chain.shape[0]\n",
    "y = np.zeros((n_posterior_samples, len(x)))\n",
    "for i in range(n_posterior_samples):\n",
    "    sample = chain[i, :]\n",
    "    y[i, :] = my_model.y(x, *sample)\n",
    "\n",
    "upper, lower = np.percentile(y, [5, 95], axis=0)"
   ]
  },
  {
   "cell_type": "code",
   "execution_count": null,
   "id": "898510ed-06ca-439d-b4cc-e8c18eb74a4a",
   "metadata": {},
   "outputs": [],
   "source": [
    "plt.errorbar(\n",
    "    x,\n",
    "    y_exp,\n",
    "    y_stat_err,\n",
    "    color=\"k\",\n",
    "    marker=\"o\",\n",
    "    linestyle=\"none\",\n",
    "    label=\"experiment with bias\",\n",
    ")\n",
    "plt.plot(x, y_true, \"k--\", label=\"truth\")\n",
    "plt.fill_between(\n",
    "    x,\n",
    "    lower,\n",
    "    upper,\n",
    "    alpha=0.5,\n",
    "    zorder=2,\n",
    "    label=r\"posterior inner 90$^\\text{th}$ pctl\",\n",
    ")\n",
    "plt.xlabel(\"x\")\n",
    "plt.ylabel(\"y\")\n",
    "plt.legend()\n",
    "plt.title(\"Incorrect systematic error\")"
   ]
  },
  {
   "cell_type": "markdown",
   "id": "668965af-95a6-47d8-b0ef-a301f55ad632",
   "metadata": {},
   "source": [
    "# Multiple constraints\n",
    "Let's add a second constraint and see how these models compare."
   ]
  },
  {
   "cell_type": "code",
   "execution_count": null,
   "id": "211cf8d9-e6a7-4229-8148-e6f2e3acb64b",
   "metadata": {},
   "outputs": [],
   "source": [
    "systematic_fractional_err2 = 0.07\n",
    "# choose a normalization 1 std deviation above the mean\n",
    "N2 = 1 + systematic_fractional_err2\n",
    "noise2 = 0.05\n",
    "x2 = np.linspace(0.7, 1.5, 30, dtype=float)\n",
    "y_stat_err2 = noise2 * np.ones_like(x2) * N2  # noise is just a constant fraction of y\n",
    "y_true2 = my_model.y(x2, *list(true_params.values()))\n",
    "y_exp2 = (y_true2 + rng.normal(scale=noise2, size=len(x2))) * N2"
   ]
  },
  {
   "cell_type": "code",
   "execution_count": null,
   "id": "2b3c3ef2-7b12-4a8c-9142-6eb7bdb3e242",
   "metadata": {},
   "outputs": [],
   "source": [
    "fullx = np.linspace(0,1.6,10)\n",
    "ytrue_full = my_model.y(fullx, *list(true_params.values()))"
   ]
  },
  {
   "cell_type": "code",
   "execution_count": null,
   "id": "ae16e071-4b87-448b-b626-647d34349c51",
   "metadata": {},
   "outputs": [],
   "source": [
    "plt.errorbar(\n",
    "    x,\n",
    "    y_exp,\n",
    "    y_stat_err,\n",
    "    marker=\"o\",\n",
    "    linestyle=\"none\",\n",
    "    label=\"observation 1\",\n",
    ")\n",
    "plt.errorbar(\n",
    "    x2,\n",
    "    y_exp2,\n",
    "    y_stat_err2,\n",
    "    marker=\"o\",\n",
    "    linestyle=\"none\",\n",
    "    label=\"observation 2\",\n",
    ")\n",
    "\n",
    "plt.plot(fullx, ytrue_full, \"k--\", label=\"truth\")\n",
    "\n",
    "plt.xlabel(\"x\")\n",
    "plt.ylabel(\"y\")\n",
    "plt.legend()\n",
    "plt.title(\"multiple constraint with normalization error\")"
   ]
  },
  {
   "cell_type": "code",
   "execution_count": null,
   "id": "069c9e1f-20c0-46f5-ac0f-dafa4869acb3",
   "metadata": {},
   "outputs": [],
   "source": [
    "# 1 and 2\n",
    "obs_stat_only2 = rxmc.observation.FixedCovarianceObservation(\n",
    "    x=x2,\n",
    "    y=y_exp2,\n",
    "    covariance=np.diag(y_stat_err2**2),\n",
    ")\n",
    "\n",
    "# 3\n",
    "obs_sys_norm_correct = rxmc.observation.Observation(\n",
    "    x=x2,\n",
    "    y=y_exp2,\n",
    "    y_stat_err=y_stat_err2,\n",
    "    y_sys_err_normalization=systematic_fractional_err2,\n",
    ")\n",
    "\n",
    "# 4\n",
    "obs_sys_norm_wrong = rxmc.observation.FixedCovarianceObservation(\n",
    "    x=x2,\n",
    "    y=y_exp2,\n",
    "    covariance=np.diag(y_stat_err2**2)\n",
    "    + systematic_fractional_err2**2 * np.outer(y_exp2, y_exp2),\n",
    ")"
   ]
  },
  {
   "cell_type": "code",
   "execution_count": null,
   "id": "8bbed6d0-6e36-4a92-9cd8-9331c7080dff",
   "metadata": {},
   "outputs": [],
   "source": []
  }
 ],
 "metadata": {
  "kernelspec": {
   "display_name": "Python 3 (ipykernel)",
   "language": "python",
   "name": "python3"
  },
  "language_info": {
   "codemirror_mode": {
    "name": "ipython",
    "version": 3
   },
   "file_extension": ".py",
   "mimetype": "text/x-python",
   "name": "python",
   "nbconvert_exporter": "python",
   "pygments_lexer": "ipython3",
   "version": "3.11.9"
  }
 },
 "nbformat": 4,
 "nbformat_minor": 5
}
